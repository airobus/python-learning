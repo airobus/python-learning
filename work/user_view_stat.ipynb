{
 "cells": [
  {
   "cell_type": "code",
   "outputs": [],
   "source": [
    "file_path = \"/Users/pangmengting/Downloads/发现杭州/20250225统计/web_access_nov_dec_2024_2025/web_access.2024-12-03.txt\"\n",
    "\n",
    "#  \n",
    "# 打开文件并按行读取\n",
    "with open(file_path, 'r', encoding='utf-8') as file:\n",
    "    for line in file:\n",
    "        # 处理每一行内容\n",
    "        print(line.strip())"
   ],
   "metadata": {
    "collapsed": false
   },
   "id": "e9d30ca86bc5dafc",
   "execution_count": null
  },
  {
   "cell_type": "code",
   "outputs": [],
   "source": [
    "import os\n",
    "\n",
    "folder_path = \"/Users/pangmengting/Downloads/发现杭州/20250225统计/web_access_nov_dec_2024_2025\"\n",
    "\n",
    "file_paths = []\n",
    "# 遍历文件夹中的所有文件\n",
    "for filename in os.listdir(folder_path):\n",
    "    # 获取文件的完整路径\n",
    "    file_path = folder_path + '/' + filename\n",
    "    print(file_path)\n",
    "    file_paths.append(file_path)\n",
    "\n",
    "# for file_path in file_paths:\n",
    "#     print(file_path)"
   ],
   "metadata": {
    "collapsed": false
   },
   "id": "ea9ff272970391eb",
   "execution_count": null
  },
  {
   "cell_type": "code",
   "outputs": [],
   "source": [
    "# file_path\n",
    "for file_path in file_paths:\n",
    "    \n",
    "    print(file_path)"
   ],
   "metadata": {
    "collapsed": false
   },
   "id": "84b62c31e4a73dfe",
   "execution_count": null
  },
  {
   "cell_type": "code",
   "outputs": [
    {
     "name": "stdout",
     "output_type": "stream",
     "text": [
      "118\n"
     ]
    }
   ],
   "source": [
    "count = len(file_paths)\n",
    "print(count)"
   ],
   "metadata": {
    "collapsed": false,
    "ExecuteTime": {
     "end_time": "2025-02-25T05:54:16.203618Z",
     "start_time": "2025-02-25T05:54:16.031946Z"
    }
   },
   "id": "f11522a5ad27f14a",
   "execution_count": 2
  },
  {
   "cell_type": "code",
   "outputs": [],
   "source": [
    "txt_file=[]\n",
    "for file_path in file_paths:\n",
    "    if file_path.endswith(\".txt\"):\n",
    "        txt_file.append(file_path)"
   ],
   "metadata": {
    "collapsed": false,
    "ExecuteTime": {
     "end_time": "2025-02-25T05:55:15.673793Z",
     "start_time": "2025-02-25T05:55:15.515830Z"
    }
   },
   "id": "ddafd828f03d4377",
   "execution_count": 3
  },
  {
   "cell_type": "code",
   "outputs": [
    {
     "name": "stdout",
     "output_type": "stream",
     "text": [
      "117\n"
     ]
    }
   ],
   "source": [
    "count = len(txt_file)\n",
    "print(count)"
   ],
   "metadata": {
    "collapsed": false,
    "ExecuteTime": {
     "end_time": "2025-02-25T05:55:17.767762Z",
     "start_time": "2025-02-25T05:55:17.385416Z"
    }
   },
   "id": "ca3f9306c036c0f3",
   "execution_count": 4
  },
  {
   "cell_type": "code",
   "outputs": [],
   "source": [
    "for file_path in file_paths:\n",
    "    if not file_path.endswith(\".txt\"):\n",
    "        continue\n",
    "    print('sss =>>>>>>' + file_path)\n",
    "    with open(file_path, 'r', encoding='utf-8') as file:\n",
    "        for line in file:\n",
    "            print()\n",
    "    print('===> ' + file_path)"
   ],
   "metadata": {
    "collapsed": false
   },
   "id": "8f8b5b35dd421f52",
   "execution_count": null
  },
  {
   "cell_type": "code",
   "outputs": [],
   "source": [
    "for file_path in file_paths:\n",
    "    with open(file_path, 'r', encoding='utf-8') as file:\n",
    "        for line in file:\n",
    "            # 处理每一行内容\n",
    "            print(1)\n",
    "    print(file_path)"
   ],
   "metadata": {
    "collapsed": false
   },
   "id": "f9595f534787c8de",
   "execution_count": null
  },
  {
   "cell_type": "code",
   "outputs": [
    {
     "name": "stdout",
     "output_type": "stream",
     "text": [
      "读取文件 web_access.2024-11-22.txt 失败: 'gb18030' codec can't decode byte 0xb7 in position 7576: illegal multibyte sequence\n"
     ]
    }
   ],
   "source": [
    "import os\n",
    "\n",
    "\n",
    "def read_files_in_folder(folder_path):\n",
    "    \"\"\"\n",
    "    读取指定文件夹中的所有文件内容，按行处理\n",
    "    :param folder_path: 文件夹路径\n",
    "    \"\"\"\n",
    "    # 检查文件夹是否存在\n",
    "    if not os.path.exists(folder_path):\n",
    "        print(f\"文件夹不存在: {folder_path}\")\n",
    "        return\n",
    "\n",
    "    # 遍历文件夹中的所有文件\n",
    "    for filename in os.listdir(folder_path):\n",
    "        file_path = os.path.join(folder_path, filename)\n",
    "\n",
    "        # 确保是文件而不是目录\n",
    "        if not os.path.isfile(file_path):\n",
    "            continue\n",
    "\n",
    "        try:\n",
    "            # 尝试用不同编码读取文件\n",
    "            with open(file_path, 'r', encoding='utf-8') as f:\n",
    "                for line in f:\n",
    "                    # 处理每一行内容\n",
    "                    process_line(line.strip())\n",
    "        except UnicodeDecodeError:\n",
    "            try:\n",
    "                # 如果UTF-8失败，尝试GB18030\n",
    "                with open(file_path, 'r', encoding='gb18030') as f:\n",
    "                    for line in f:\n",
    "                        process_line(line.strip())\n",
    "            except Exception as e:\n",
    "                print(f\"读取文件 {filename} 失败: {str(e)}\")\n",
    "                continue\n",
    "\n",
    "\n",
    "def process_line(line):\n",
    "    \"\"\"\n",
    "    处理每一行内容的示例函数\n",
    "    :param line: 单行文本\n",
    "    \"\"\"\n",
    "    # 这里可以添加你的处理逻辑\n",
    "    # print(line)  # 示例：打印每一行内容\n",
    "\n",
    "\n",
    "# 使用示例\n",
    "folder_path = \"/Users/pangmengting/Downloads/发现杭州/20250225统计/web_access_nov_dec_2024_2025\"\n",
    "read_files_in_folder(folder_path)"
   ],
   "metadata": {
    "collapsed": false,
    "ExecuteTime": {
     "end_time": "2025-02-25T04:46:27.422204Z",
     "start_time": "2025-02-25T04:46:27.127991Z"
    }
   },
   "id": "881f14a0fcbda239",
   "execution_count": 1
  },
  {
   "cell_type": "code",
   "outputs": [
    {
     "ename": "UnicodeDecodeError",
     "evalue": "'utf-8' codec can't decode byte 0xb7 in position 7576: invalid start byte",
     "output_type": "error",
     "traceback": [
      "\u001B[0;31m---------------------------------------------------------------------------\u001B[0m",
      "\u001B[0;31mUnicodeDecodeError\u001B[0m                        Traceback (most recent call last)",
      "Cell \u001B[0;32mIn[2], line 40\u001B[0m\n\u001B[1;32m     38\u001B[0m \u001B[38;5;66;03m# 使用示例\u001B[39;00m\n\u001B[1;32m     39\u001B[0m folder_path \u001B[38;5;241m=\u001B[39m \u001B[38;5;124m\"\u001B[39m\u001B[38;5;124m/Users/pangmengting/Downloads/发现杭州/20250225统计/web_access_nov_dec_2024_2025\u001B[39m\u001B[38;5;124m\"\u001B[39m\n\u001B[0;32m---> 40\u001B[0m logs \u001B[38;5;241m=\u001B[39m \u001B[43mparse_log_files\u001B[49m\u001B[43m(\u001B[49m\u001B[43mfolder_path\u001B[49m\u001B[43m)\u001B[49m\n\u001B[1;32m     42\u001B[0m \u001B[38;5;66;03m# 查看前5条结果\u001B[39;00m\n\u001B[1;32m     43\u001B[0m \u001B[38;5;28mprint\u001B[39m(\u001B[38;5;124m\"\u001B[39m\u001B[38;5;124m解析到的记录数量:\u001B[39m\u001B[38;5;124m\"\u001B[39m, \u001B[38;5;28mlen\u001B[39m(logs))\n",
      "Cell \u001B[0;32mIn[2], line 13\u001B[0m, in \u001B[0;36mparse_log_files\u001B[0;34m(folder_path)\u001B[0m\n\u001B[1;32m     10\u001B[0m \u001B[38;5;28;01mfor\u001B[39;00m filename \u001B[38;5;129;01min\u001B[39;00m os\u001B[38;5;241m.\u001B[39mlistdir(folder_path):\n\u001B[1;32m     11\u001B[0m     \u001B[38;5;66;03m# 读取日志文件\u001B[39;00m\n\u001B[1;32m     12\u001B[0m     \u001B[38;5;28;01mwith\u001B[39;00m \u001B[38;5;28mopen\u001B[39m(os\u001B[38;5;241m.\u001B[39mpath\u001B[38;5;241m.\u001B[39mjoin(folder_path, filename), \u001B[38;5;124m'\u001B[39m\u001B[38;5;124mr\u001B[39m\u001B[38;5;124m'\u001B[39m, encoding\u001B[38;5;241m=\u001B[39m\u001B[38;5;124m'\u001B[39m\u001B[38;5;124mutf-8\u001B[39m\u001B[38;5;124m'\u001B[39m) \u001B[38;5;28;01mas\u001B[39;00m f:\n\u001B[0;32m---> 13\u001B[0m         \u001B[38;5;28;01mfor\u001B[39;00m line \u001B[38;5;129;01min\u001B[39;00m f:\n\u001B[1;32m     14\u001B[0m             \u001B[38;5;66;03m# 使用正则匹配时间戳和参数部分\u001B[39;00m\n\u001B[1;32m     15\u001B[0m             match \u001B[38;5;241m=\u001B[39m re\u001B[38;5;241m.\u001B[39msearch(\u001B[38;5;124mr\u001B[39m\u001B[38;5;124m'\u001B[39m\u001B[38;5;124m\\\u001B[39m\u001B[38;5;124m[(.*?)\u001B[39m\u001B[38;5;124m\\\u001B[39m\u001B[38;5;124m] .*?\u001B[39m\u001B[38;5;124m\\\u001B[39m\u001B[38;5;124m[(.*?)\u001B[39m\u001B[38;5;124m\\\u001B[39m\u001B[38;5;124m]\u001B[39m\u001B[38;5;124m'\u001B[39m, line)\n\u001B[1;32m     16\u001B[0m             \u001B[38;5;28;01mif\u001B[39;00m \u001B[38;5;129;01mnot\u001B[39;00m match:\n",
      "File \u001B[0;32m/Library/Frameworks/Python.framework/Versions/3.10/lib/python3.10/codecs.py:322\u001B[0m, in \u001B[0;36mBufferedIncrementalDecoder.decode\u001B[0;34m(self, input, final)\u001B[0m\n\u001B[1;32m    319\u001B[0m \u001B[38;5;28;01mdef\u001B[39;00m \u001B[38;5;21mdecode\u001B[39m(\u001B[38;5;28mself\u001B[39m, \u001B[38;5;28minput\u001B[39m, final\u001B[38;5;241m=\u001B[39m\u001B[38;5;28;01mFalse\u001B[39;00m):\n\u001B[1;32m    320\u001B[0m     \u001B[38;5;66;03m# decode input (taking the buffer into account)\u001B[39;00m\n\u001B[1;32m    321\u001B[0m     data \u001B[38;5;241m=\u001B[39m \u001B[38;5;28mself\u001B[39m\u001B[38;5;241m.\u001B[39mbuffer \u001B[38;5;241m+\u001B[39m \u001B[38;5;28minput\u001B[39m\n\u001B[0;32m--> 322\u001B[0m     (result, consumed) \u001B[38;5;241m=\u001B[39m \u001B[38;5;28;43mself\u001B[39;49m\u001B[38;5;241;43m.\u001B[39;49m\u001B[43m_buffer_decode\u001B[49m\u001B[43m(\u001B[49m\u001B[43mdata\u001B[49m\u001B[43m,\u001B[49m\u001B[43m \u001B[49m\u001B[38;5;28;43mself\u001B[39;49m\u001B[38;5;241;43m.\u001B[39;49m\u001B[43merrors\u001B[49m\u001B[43m,\u001B[49m\u001B[43m \u001B[49m\u001B[43mfinal\u001B[49m\u001B[43m)\u001B[49m\n\u001B[1;32m    323\u001B[0m     \u001B[38;5;66;03m# keep undecoded input until the next call\u001B[39;00m\n\u001B[1;32m    324\u001B[0m     \u001B[38;5;28mself\u001B[39m\u001B[38;5;241m.\u001B[39mbuffer \u001B[38;5;241m=\u001B[39m data[consumed:]\n",
      "\u001B[0;31mUnicodeDecodeError\u001B[0m: 'utf-8' codec can't decode byte 0xb7 in position 7576: invalid start byte"
     ]
    }
   ],
   "source": [
    "import os\n",
    "import re\n",
    "from datetime import datetime\n",
    "\n",
    "\n",
    "def parse_log_files(folder_path):\n",
    "    log_data = []\n",
    "\n",
    "    # 遍历日志文件夹\n",
    "    for filename in os.listdir(folder_path):\n",
    "        # 读取日志文件\n",
    "        with open(os.path.join(folder_path, filename), 'r', encoding='utf-8') as f:\n",
    "            for line in f:\n",
    "                # 使用正则匹配时间戳和参数部分\n",
    "                match = re.search(r'\\[(.*?)\\] .*?\\[(.*?)\\]', line)\n",
    "                if not match:\n",
    "                    continue\n",
    "\n",
    "                # 提取时间戳\n",
    "                date = match.group(1)\n",
    "                # 提取参数部分\n",
    "                params = match.group(2)\n",
    "                param_dict = dict(re.findall(r'(\\w+)=([^&]*)', params))\n",
    "\n",
    "                # 提取usid（假设来自categoryId参数）\n",
    "                usid = param_dict.get('usid', None)\n",
    "\n",
    "                # 保存有效记录\n",
    "                if usid:\n",
    "                    log_data.append({\n",
    "                        'usid': usid,\n",
    "                        'date': date\n",
    "                    })\n",
    "\n",
    "    return log_data\n",
    "\n",
    "\n",
    "# 使用示例\n",
    "folder_path = \"/Users/pangmengting/Downloads/发现杭州/20250225统计/web_access_nov_dec_2024_2025\"\n",
    "logs = parse_log_files(folder_path)\n",
    "\n",
    "# 查看前5条结果\n",
    "print(\"解析到的记录数量:\", len(logs))\n",
    "print(\"示例数据:\")\n",
    "for log in logs[:5]:\n",
    "    print(f\"时间: {log['timestamp']} \\t USID: {log['usid']}\")"
   ],
   "metadata": {
    "collapsed": false,
    "ExecuteTime": {
     "end_time": "2025-02-25T04:47:09.124983Z",
     "start_time": "2025-02-25T04:47:08.564443Z"
    }
   },
   "id": "cd3599518c4cc94a",
   "execution_count": 2
  },
  {
   "cell_type": "code",
   "outputs": [],
   "source": [
    "import chardet\n",
    "\n",
    "for filename in os.listdir(folder_path):\n",
    "    print(filename)\n",
    "    full_path = os.path.join(folder_path, filename)\n",
    "    with open(full_path, 'rb') as f:\n",
    "        raw_data = f.read()\n",
    "        # print(raw_data)\n",
    "        result = chardet.detect(raw_data)\n",
    "        print(result)"
   ],
   "metadata": {
    "collapsed": false
   },
   "id": "2f5fd78efda983c1",
   "execution_count": null
  },
  {
   "cell_type": "code",
   "outputs": [
    {
     "name": "stdout",
     "output_type": "stream",
     "text": [
      "文件存在: True\n"
     ]
    }
   ],
   "source": [
    "import os\n",
    "\n",
    "file_path = \"/Users/pangmengting/Downloads/发现杭州/20250225统计/web_access_nov_dec_2024_2025/web_access.2024-12-03.txt\"\n",
    "print(\"文件存在:\", os.path.exists(file_path))"
   ],
   "metadata": {
    "collapsed": false,
    "ExecuteTime": {
     "end_time": "2025-02-25T04:39:08.655214Z",
     "start_time": "2025-02-25T04:39:08.648383Z"
    }
   },
   "id": "5506711c27cb3e45",
   "execution_count": 14
  },
  {
   "cell_type": "code",
   "execution_count": 4,
   "id": "initial_id",
   "metadata": {
    "collapsed": true,
    "ExecuteTime": {
     "end_time": "2025-02-25T03:58:48.116477Z",
     "start_time": "2025-02-25T03:58:47.310793Z"
    }
   },
   "outputs": [
    {
     "name": "stdout",
     "output_type": "stream",
     "text": [
      "2024-12-03 2024-12-03\n",
      "2024-12-17 2024-12-17\n",
      "2025-01-08 2025-01-08\n",
      "2025-01-20 2025-01-20\n",
      "2025-01-21 2025-01-21\n",
      "2025-01-09 2025-01-09\n",
      "2024-12-16 2024-12-16\n",
      "2024-12-02 2024-12-02\n",
      "2024-12-28 2024-12-28\n",
      "2024-12-14 2024-12-14\n",
      "2025-01-23 2025-01-23\n",
      "2025-01-22 2025-01-22\n",
      "2024-12-01 2024-12-01\n",
      "2024-12-15 2024-12-15\n",
      "2024-12-29 2024-12-29\n",
      "2024-12-11 2024-12-11\n",
      "2024-12-05 2024-12-05\n",
      "2025-01-26 2025-01-26\n",
      "2025-01-27 2025-01-27\n",
      "2024-12-04 2024-12-04\n",
      "2024-12-10 2024-12-10\n",
      "2024-12-06 2024-12-06\n",
      "2024-12-12 2024-12-12\n",
      "2025-01-25 2025-01-25\n",
      "2025-01-31 2025-01-31\n",
      "2025-01-19 2025-01-19\n",
      "2025-01-18 2025-01-18\n",
      "2025-01-30 2025-01-30\n",
      "2025-01-24 2025-01-24\n",
      "2024-12-13 2024-12-13\n",
      "2024-12-07 2024-12-07\n",
      "2024-11-25 2024-11-25\n",
      "2024-11-19 2024-11-19\n",
      "2025-02-12 2025-02-12\n",
      "2025-02-06 2025-02-06\n",
      "2025-02-07 2025-02-07\n",
      "2025-02-13 2025-02-13\n",
      "2024-11-18 2024-11-18\n",
      "2024-11-24 2024-11-24\n",
      "2024-11-30 2024-11-30\n",
      "2024-11-26 2024-11-26\n",
      "2025-02-05 2025-02-05\n",
      "2025-02-11 2025-02-11\n",
      "2025-02-10 2025-02-10\n",
      "2025-02-04 2025-02-04\n",
      "2024-11-27 2024-11-27\n",
      "2024-11-23 2024-11-23\n",
      "2025-02-14 2025-02-14\n",
      "2025-02-15 2025-02-15\n",
      "2025-02-01 2025-02-01\n",
      "2024-11-22 2024-11-22\n"
     ]
    },
    {
     "ename": "UnicodeDecodeError",
     "evalue": "'utf-8' codec can't decode byte 0xb7 in position 7576: invalid start byte",
     "output_type": "error",
     "traceback": [
      "\u001B[0;31m---------------------------------------------------------------------------\u001B[0m",
      "\u001B[0;31mUnicodeDecodeError\u001B[0m                        Traceback (most recent call last)",
      "Cell \u001B[0;32mIn[4], line 47\u001B[0m\n\u001B[1;32m     45\u001B[0m \u001B[38;5;66;03m# 使用示例\u001B[39;00m\n\u001B[1;32m     46\u001B[0m folder_path \u001B[38;5;241m=\u001B[39m \u001B[38;5;124m\"\u001B[39m\u001B[38;5;124m/Users/pangmengting/Downloads/发现杭州/20250225统计/web_access_nov_dec_2024_2025\u001B[39m\u001B[38;5;124m\"\u001B[39m\n\u001B[0;32m---> 47\u001B[0m logs \u001B[38;5;241m=\u001B[39m \u001B[43mparse_log_files\u001B[49m\u001B[43m(\u001B[49m\u001B[43mfolder_path\u001B[49m\u001B[43m)\u001B[49m\n\u001B[1;32m     49\u001B[0m \u001B[38;5;66;03m# 查看前5条结果\u001B[39;00m\n\u001B[1;32m     50\u001B[0m \u001B[38;5;28mprint\u001B[39m(\u001B[38;5;124m\"\u001B[39m\u001B[38;5;124m解析到的记录数量:\u001B[39m\u001B[38;5;124m\"\u001B[39m, \u001B[38;5;28mlen\u001B[39m(logs))\n",
      "Cell \u001B[0;32mIn[4], line 22\u001B[0m, in \u001B[0;36mparse_log_files\u001B[0;34m(folder_path)\u001B[0m\n\u001B[1;32m     20\u001B[0m \u001B[38;5;66;03m# 读取日志文件\u001B[39;00m\n\u001B[1;32m     21\u001B[0m \u001B[38;5;28;01mwith\u001B[39;00m \u001B[38;5;28mopen\u001B[39m(os\u001B[38;5;241m.\u001B[39mpath\u001B[38;5;241m.\u001B[39mjoin(folder_path, filename), \u001B[38;5;124m'\u001B[39m\u001B[38;5;124mr\u001B[39m\u001B[38;5;124m'\u001B[39m, encoding\u001B[38;5;241m=\u001B[39m\u001B[38;5;124m'\u001B[39m\u001B[38;5;124mutf-8\u001B[39m\u001B[38;5;124m'\u001B[39m) \u001B[38;5;28;01mas\u001B[39;00m f:\n\u001B[0;32m---> 22\u001B[0m     \u001B[38;5;28;01mfor\u001B[39;00m line \u001B[38;5;129;01min\u001B[39;00m f:\n\u001B[1;32m     23\u001B[0m         \u001B[38;5;66;03m# 使用正则匹配关键字段\u001B[39;00m\n\u001B[1;32m     24\u001B[0m         match \u001B[38;5;241m=\u001B[39m re\u001B[38;5;241m.\u001B[39msearch(\u001B[38;5;124mr\u001B[39m\u001B[38;5;124m'\u001B[39m\u001B[38;5;124m\\\u001B[39m\u001B[38;5;124m[(.*?)\u001B[39m\u001B[38;5;124m\\\u001B[39m\u001B[38;5;124m] \u001B[39m\u001B[38;5;124m\\\u001B[39m\u001B[38;5;124m[(.*?)\u001B[39m\u001B[38;5;124m\\\u001B[39m\u001B[38;5;124m] \u001B[39m\u001B[38;5;124m\\\u001B[39m\u001B[38;5;124m[(.*?)\u001B[39m\u001B[38;5;124m\\\u001B[39m\u001B[38;5;124m]\u001B[39m\u001B[38;5;124m'\u001B[39m, line)\n\u001B[1;32m     25\u001B[0m         \u001B[38;5;28;01mif\u001B[39;00m \u001B[38;5;129;01mnot\u001B[39;00m match:\n",
      "File \u001B[0;32m/Library/Frameworks/Python.framework/Versions/3.10/lib/python3.10/codecs.py:322\u001B[0m, in \u001B[0;36mBufferedIncrementalDecoder.decode\u001B[0;34m(self, input, final)\u001B[0m\n\u001B[1;32m    319\u001B[0m \u001B[38;5;28;01mdef\u001B[39;00m \u001B[38;5;21mdecode\u001B[39m(\u001B[38;5;28mself\u001B[39m, \u001B[38;5;28minput\u001B[39m, final\u001B[38;5;241m=\u001B[39m\u001B[38;5;28;01mFalse\u001B[39;00m):\n\u001B[1;32m    320\u001B[0m     \u001B[38;5;66;03m# decode input (taking the buffer into account)\u001B[39;00m\n\u001B[1;32m    321\u001B[0m     data \u001B[38;5;241m=\u001B[39m \u001B[38;5;28mself\u001B[39m\u001B[38;5;241m.\u001B[39mbuffer \u001B[38;5;241m+\u001B[39m \u001B[38;5;28minput\u001B[39m\n\u001B[0;32m--> 322\u001B[0m     (result, consumed) \u001B[38;5;241m=\u001B[39m \u001B[38;5;28;43mself\u001B[39;49m\u001B[38;5;241;43m.\u001B[39;49m\u001B[43m_buffer_decode\u001B[49m\u001B[43m(\u001B[49m\u001B[43mdata\u001B[49m\u001B[43m,\u001B[49m\u001B[43m \u001B[49m\u001B[38;5;28;43mself\u001B[39;49m\u001B[38;5;241;43m.\u001B[39;49m\u001B[43merrors\u001B[49m\u001B[43m,\u001B[49m\u001B[43m \u001B[49m\u001B[43mfinal\u001B[49m\u001B[43m)\u001B[49m\n\u001B[1;32m    323\u001B[0m     \u001B[38;5;66;03m# keep undecoded input until the next call\u001B[39;00m\n\u001B[1;32m    324\u001B[0m     \u001B[38;5;28mself\u001B[39m\u001B[38;5;241m.\u001B[39mbuffer \u001B[38;5;241m=\u001B[39m data[consumed:]\n",
      "\u001B[0;31mUnicodeDecodeError\u001B[0m: 'utf-8' codec can't decode byte 0xb7 in position 7576: invalid start byte"
     ]
    }
   ],
   "source": [
    "\n",
    "import os\n",
    "import re\n",
    "from datetime import datetime\n",
    "\n",
    "\n",
    "def parse_log_files(folder_path):\n",
    "    log_data = []\n",
    "\n",
    "    # 遍历日志文件夹\n",
    "    for filename in os.listdir(folder_path):\n",
    "        if not filename.startswith(\"web_access.\") or not filename.endswith(\".txt\"):\n",
    "            continue\n",
    "\n",
    "        # 从文件名提取日期\n",
    "        date_str = filename.split('.')[1]\n",
    "        log_date = datetime.strptime(date_str, \"%Y-%m-%d\").date()\n",
    "\n",
    "        print(date_str, log_date)\n",
    "\n",
    "        # 读取日志文件\n",
    "        with open(os.path.join(folder_path, filename), 'r', encoding='utf-8') as f:\n",
    "            for line in f:\n",
    "                # 使用正则匹配关键字段\n",
    "                match = re.search(r'\\[(.*?)\\] \\[(.*?)\\] \\[(.*?)\\]', line)\n",
    "                if not match:\n",
    "                    continue\n",
    "\n",
    "                # 解析参数部分\n",
    "                params = match.group(3)\n",
    "                param_dict = dict(re.findall(r'(\\w+)=([^&]*)', params))\n",
    "\n",
    "                # 提取usid（假设来自categoryId参数）\n",
    "                usid = param_dict.get('categoryId', None)\n",
    "\n",
    "                # 保存有效记录\n",
    "                if usid:\n",
    "                    log_data.append({\n",
    "                        'usid': usid,\n",
    "                        'date': log_date.strftime(\"%Y-%m-%d\")\n",
    "                    })\n",
    "\n",
    "    return log_data\n",
    "\n",
    "\n",
    "# 使用示例\n",
    "folder_path = \"/Users/pangmengting/Downloads/发现杭州/20250225统计/web_access_nov_dec_2024_2025\"\n",
    "logs = parse_log_files(folder_path)\n",
    "\n",
    "# 查看前5条结果\n",
    "print(\"解析到的记录数量:\", len(logs))\n",
    "print(\"示例数据:\")\n",
    "for log in logs[:5]:\n",
    "    print(f\"日期: {log['date']} \\t USID: {log['usid']}\")\n"
   ]
  },
  {
   "cell_type": "code",
   "outputs": [],
   "source": [],
   "metadata": {
    "collapsed": false,
    "ExecuteTime": {
     "end_time": "2025-02-25T03:58:33.280580Z",
     "start_time": "2025-02-25T03:58:33.278616Z"
    }
   },
   "id": "36b92059a27ce0a8"
  },
  {
   "cell_type": "code",
   "outputs": [],
   "source": [],
   "metadata": {
    "collapsed": false
   },
   "id": "b246ca23d0e641c3"
  }
 ],
 "metadata": {
  "kernelspec": {
   "display_name": "Python 3",
   "language": "python",
   "name": "python3"
  },
  "language_info": {
   "codemirror_mode": {
    "name": "ipython",
    "version": 2
   },
   "file_extension": ".py",
   "mimetype": "text/x-python",
   "name": "python",
   "nbconvert_exporter": "python",
   "pygments_lexer": "ipython2",
   "version": "2.7.6"
  }
 },
 "nbformat": 4,
 "nbformat_minor": 5
}
