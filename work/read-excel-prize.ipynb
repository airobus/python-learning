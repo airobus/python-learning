{
 "cells": [
  {
   "cell_type": "code",
   "execution_count": 2,
   "id": "initial_id",
   "metadata": {
    "collapsed": true,
    "ExecuteTime": {
     "end_time": "2024-12-25T03:37:51.728821Z",
     "start_time": "2024-12-25T03:37:51.700388Z"
    }
   },
   "outputs": [
    {
     "name": "stdout",
     "output_type": "stream",
     "text": [
      "Index(['merchant', 'contact', 'phone', 'address', '类型', 'name', 'amount',\n",
      "       'original_price', '数量', 'rule'],\n",
      "      dtype='object')\n",
      "None\n"
     ]
    }
   ],
   "source": [
    "import pandas as pd\n",
    "import json\n",
    "\n",
    "path = '/Users/pangmengting/Downloads/发现杭州/余杭文旅促消费大礼包活动汇总-1225.xlsx'\n",
    "# 读取 Excel 文件，从第2行开始（即索引为2，因为 Python 是从0开始计数）\n",
    "df = pd.read_excel(path, skiprows=1)\n",
    "\n",
    "# 需要从 excel 读取的字段\n",
    "fields = ['merchant', 'contact', 'phone', 'address', 'name', 'amount', 'original_price', 'rule']\n",
    "sql_template = \"INSERT INTO public.draw_activity_prize (prize_name, type, total_stock, remain_stock, feature, activity_type) VALUES ('{prize_name}', '{type}', {total_stock},{remain_stock}, '{feature}', '2');\"\n",
    "\n",
    "print(print(df.columns))\n",
    "\n",
    "sql_statements = []\n",
    "\n",
    "for index, row in df.iterrows():\n",
    "    # 抽取必要信息\n",
    "    prize_name = row['类型']\n",
    "    total_stock = row['数量']\n",
    "    remain_stock = total_stock\n",
    "    \n",
    "    type_mapping = {\n",
    "        '餐饮券': 2,\n",
    "        '房券': 3,\n",
    "        '文旅体验消费券': 4,\n",
    "        '景区门票券': 5\n",
    "    }\n",
    "\n",
    "    type = type_mapping.get(prize_name, 1)\n",
    "    \n",
    "    # 创建 feature 字段的 JSON 字符串\n",
    "    feature_data = {field: row[field] for field in fields}\n",
    "    feature_json = json.dumps(feature_data, ensure_ascii=False)\n",
    "\n",
    "    # 生成SQL语句\n",
    "    sql = sql_template.format(\n",
    "        prize_name=prize_name,\n",
    "        type=type,\n",
    "        total_stock=total_stock,\n",
    "        remain_stock=remain_stock,\n",
    "        feature=feature_json,\n",
    "    )\n",
    "    sql_statements.append(sql)\n"
   ]
  },
  {
   "cell_type": "code",
   "outputs": [
    {
     "name": "stdout",
     "output_type": "stream",
     "text": [
      "SQL语句已写入aa.sql文件\n"
     ]
    }
   ],
   "source": [
    "with open('bb.sql', 'w', encoding='utf-8') as file:\n",
    "    for statement in sql_statements:\n",
    "        file.write(statement + '\\n')\n",
    "\n",
    "print(\"SQL语句已写入aa.sql文件\")"
   ],
   "metadata": {
    "collapsed": false,
    "ExecuteTime": {
     "end_time": "2024-12-25T03:38:02.165066Z",
     "start_time": "2024-12-25T03:38:02.161196Z"
    }
   },
   "id": "da672e689137d0b4",
   "execution_count": 3
  },
  {
   "cell_type": "code",
   "outputs": [],
   "source": [],
   "metadata": {
    "collapsed": false
   },
   "id": "aa3a68133b50b32b"
  }
 ],
 "metadata": {
  "kernelspec": {
   "display_name": "Python 3",
   "language": "python",
   "name": "python3"
  },
  "language_info": {
   "codemirror_mode": {
    "name": "ipython",
    "version": 2
   },
   "file_extension": ".py",
   "mimetype": "text/x-python",
   "name": "python",
   "nbconvert_exporter": "python",
   "pygments_lexer": "ipython2",
   "version": "2.7.6"
  }
 },
 "nbformat": 4,
 "nbformat_minor": 5
}
