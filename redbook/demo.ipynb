{
 "cells": [
  {
   "cell_type": "code",
   "execution_count": 1,
   "id": "initial_id",
   "metadata": {
    "collapsed": true,
    "ExecuteTime": {
     "end_time": "2025-02-22T08:45:17.677801Z",
     "start_time": "2025-02-22T08:44:52.077261Z"
    }
   },
   "outputs": [
    {
     "name": "stdout",
     "output_type": "stream",
     "text": [
      "Looking in indexes: https://pypi.tuna.tsinghua.edu.cn/simple\r\n",
      "Requirement already satisfied: requests in /Users/pangmengting/venv/lib/python3.10/site-packages (2.32.3)\r\n",
      "Requirement already satisfied: playwright in /Users/pangmengting/venv/lib/python3.10/site-packages (1.36.0)\r\n",
      "Requirement already satisfied: beautifulsoup4 in /Users/pangmengting/venv/lib/python3.10/site-packages (4.12.3)\r\n",
      "Requirement already satisfied: charset-normalizer<4,>=2 in /Users/pangmengting/venv/lib/python3.10/site-packages (from requests) (3.3.2)\r\n",
      "Requirement already satisfied: idna<4,>=2.5 in /Users/pangmengting/venv/lib/python3.10/site-packages (from requests) (3.7)\r\n",
      "Requirement already satisfied: urllib3<3,>=1.21.1 in /Users/pangmengting/venv/lib/python3.10/site-packages (from requests) (2.2.2)\r\n",
      "Requirement already satisfied: certifi>=2017.4.17 in /Users/pangmengting/venv/lib/python3.10/site-packages (from requests) (2024.7.4)\r\n",
      "Requirement already satisfied: greenlet==2.0.2 in /Users/pangmengting/venv/lib/python3.10/site-packages (from playwright) (2.0.2)\r\n",
      "Requirement already satisfied: pyee==9.0.4 in /Users/pangmengting/venv/lib/python3.10/site-packages (from playwright) (9.0.4)\r\n",
      "Requirement already satisfied: typing-extensions in /Users/pangmengting/venv/lib/python3.10/site-packages (from pyee==9.0.4->playwright) (4.12.2)\r\n",
      "Requirement already satisfied: soupsieve>1.2 in /Users/pangmengting/venv/lib/python3.10/site-packages (from beautifulsoup4) (2.4.1)\r\n",
      "\r\n",
      "\u001B[1m[\u001B[0m\u001B[34;49mnotice\u001B[0m\u001B[1;39;49m]\u001B[0m\u001B[39;49m A new release of pip is available: \u001B[0m\u001B[31;49m24.0\u001B[0m\u001B[39;49m -> \u001B[0m\u001B[32;49m25.0.1\u001B[0m\r\n",
      "\u001B[1m[\u001B[0m\u001B[34;49mnotice\u001B[0m\u001B[1;39;49m]\u001B[0m\u001B[39;49m To update, run: \u001B[0m\u001B[32;49mpip install --upgrade pip\u001B[0m\r\n",
      "Downloading Chromium 115.0.5790.75 (playwright build v1071)\u001B[2m from https://playwright.azureedge.net/builds/chromium/1071/chromium-mac-arm64.zip\u001B[22m\r\n",
      "\u001B[1G123.2 Mb [                    ] 0% 0.0s\u001B[0K\u001B[1G123.2 Mb [                    ] 0% 136.1s\u001B[0K\u001B[1G123.2 Mb [                    ] 0% 286.6s\u001B[0K\u001B[1G123.2 Mb [                    ] 0% 266.0s\u001B[0K\u001B[1G123.2 Mb [                    ] 0% 353.5s\u001B[0K\u001B[1G123.2 Mb [                    ] 0% 272.4s\u001B[0K\u001B[1G123.2 Mb [                    ] 0% 432.8s\u001B[0K\u001B[1G123.2 Mb [                    ] 0% 435.6s\u001B[0K\u001B[1G123.2 Mb [                    ] 0% 415.6s\u001B[0K\u001B[1G123.2 Mb [                    ] 0% 427.8s\u001B[0K\u001B[1G123.2 Mb [                    ] 0% 413.5s\u001B[0K\u001B[1G123.2 Mb [                    ] 0% 460.4s\u001B[0K\u001B[1G123.2 Mb [                    ] 0% 425.1s\u001B[0K\u001B[1G123.2 Mb [                    ] 0% 411.9s\u001B[0K\u001B[1G123.2 Mb [                    ] 0% 431.5s\u001B[0K\u001B[1G123.2 Mb [                    ] 0% 474.5s\u001B[0K\u001B[1G123.2 Mb [                    ] 0% 405.6s\u001B[0K\u001B[1G123.2 Mb [                    ] 0% 396.9s\u001B[0K\u001B[1G123.2 Mb [                    ] 0% 406.0s\u001B[0K\u001B[1G123.2 Mb [                    ] 0% 428.3s\u001B[0K\u001B[1G123.2 Mb [                    ] 0% 401.3s\u001B[0K\u001B[1G123.2 Mb [                    ] 0% 404.0s\u001B[0K\u001B[1G123.2 Mb [                    ] 0% 398.6s\u001B[0K\u001B[1G123.2 Mb [                    ] 0% 401.1s\u001B[0K\u001B[1G123.2 Mb [                    ] 0% 400.1s\u001B[0K\u001B[1G123.2 Mb [                    ] 0% 400.7s\u001B[0K\u001B[1G123.2 Mb [                    ] 0% 401.1s\u001B[0K\u001B[1G123.2 Mb [                    ] 0% 399.6s\u001B[0K\u001B[1G123.2 Mb [                    ] 0% 424.1s\u001B[0K\u001B[1G123.2 Mb [                    ] 0% 407.1s\u001B[0K\u001B[1G123.2 Mb [                    ] 0% 407.5s\u001B[0K\u001B[1G123.2 Mb [                    ] 0% 436.1s\u001B[0K\u001B[1G123.2 Mb [                    ] 0% 420.9s\u001B[0K\u001B[1G123.2 Mb [                    ] 0% 424.5s\u001B[0K\u001B[1G123.2 Mb [                    ] 0% 429.9s\u001B[0K\u001B[1G123.2 Mb [                    ] 0% 434.1s\u001B[0K\u001B[1G123.2 Mb [                    ] 0% 439.4s\u001B[0K\u001B[1G123.2 Mb [                    ] 0% 445.8s\u001B[0K\u001B[1G123.2 Mb [                    ] 0% 449.9s\u001B[0K\u001B[1G123.2 Mb [                    ] 0% 474.2s\u001B[0K\u001B[1G123.2 Mb [                    ] 0% 461.1s\u001B[0K\u001B[1G123.2 Mb [                    ] 0% 481.2s\u001B[0K\u001B[1G123.2 Mb [                    ] 0% 487.9s\u001B[0K\u001B[1G123.2 Mb [                    ] 0% 497.0s\u001B[0K\u001B[1G123.2 Mb [                    ] 0% 505.9s\u001B[0K\u001B[1G123.2 Mb [                    ] 0% 508.0s\u001B[0K\u001B[1G123.2 Mb [                    ] 0% 510.6s\u001B[0K\u001B[1G123.2 Mb [                    ] 0% 516.6s\u001B[0K\u001B[1G123.2 Mb [                    ] 0% 534.2s\u001B[0K\u001B[1G123.2 Mb [                    ] 0% 534.5s\u001B[0K\u001B[1G123.2 Mb [                    ] 0% 538.7s\u001B[0K\u001B[1G123.2 Mb [                    ] 0% 533.3s\u001B[0K\u001B[1G123.2 Mb [                    ] 0% 540.2s\u001B[0K\u001B[1G123.2 Mb [                    ] 0% 539.7s\u001B[0K\u001B[1G123.2 Mb [                    ] 0% 542.2s\u001B[0K\u001B[1G123.2 Mb [                    ] 0% 544.4s\u001B[0K\u001B[1G123.2 Mb [                    ] 0% 544.0s\u001B[0K\u001B[1G123.2 Mb [                    ] 0% 542.8s\u001B[0K\u001B[1G123.2 Mb [                    ] 0% 543.8s\u001B[0K\u001B[1G123.2 Mb [                    ] 0% 548.3s\u001B[0K\u001B[1G123.2 Mb [                    ] 0% 548.1s\u001B[0K\u001B[1G123.2 Mb [                    ] 0% 550.3s\u001B[0K\u001B[1G123.2 Mb [                    ] 0% 551.7s\u001B[0K\u001B[1G123.2 Mb [                    ] 1% 554.4s\u001B[0K\u001B[1G123.2 Mb [                    ] 1% 552.6s\u001B[0K\u001B[1G123.2 Mb [                    ] 1% 551.1s\u001B[0K\u001B[1G123.2 Mb [                    ] 1% 549.5s\u001B[0K\u001B[1G123.2 Mb [                    ] 1% 552.0s\u001B[0K\u001B[1G123.2 Mb [                    ] 1% 550.4s\u001B[0K\u001B[1G123.2 Mb [                    ] 1% 551.1s\u001B[0K\u001B[1G123.2 Mb [                    ] 1% 551.2s\u001B[0K\u001B[1G123.2 Mb [                    ] 1% 550.6s\u001B[0K\u001B[1G123.2 Mb [                    ] 1% 549.4s\u001B[0K\u001B[1G123.2 Mb [                    ] 1% 548.2s\u001B[0K\u001B[1G123.2 Mb [                    ] 1% 548.4s\u001B[0K\u001B[1G123.2 Mb [                    ] 1% 560.0s\u001B[0K\u001B[1G123.2 Mb [                    ] 1% 553.3s\u001B[0K\u001B[1G123.2 Mb [                    ] 1% 554.7s\u001B[0K\u001B[1G123.2 Mb [                    ] 1% 555.5s\u001B[0K\u001B[1G123.2 Mb [                    ] 1% 556.3s\u001B[0K\u001B[1G123.2 Mb [                    ] 1% 560.5s\u001B[0K\u001B[1G123.2 Mb [                    ] 1% 557.2s\u001B[0K\u001B[1G123.2 Mb [                    ] 1% 561.2s\u001B[0K\u001B[1G123.2 Mb [                    ] 1% 570.3s\u001B[0K\u001B[1G123.2 Mb [                    ] 1% 562.3s\u001B[0K\u001B[1G123.2 Mb [                    ] 1% 564.1s\u001B[0K\u001B[1G123.2 Mb [                    ] 1% 565.6s\u001B[0K\u001B[1G123.2 Mb [                    ] 1% 569.3s\u001B[0K\u001B[1G123.2 Mb [                    ] 1% 569.1s\u001B[0K\u001B[1G123.2 Mb [                    ] 1% 569.7s\u001B[0K\u001B[1G123.2 Mb [                    ] 1% 570.3s\u001B[0K\u001B[1G123.2 Mb [                    ] 1% 571.9s\u001B[0K\u001B[1G123.2 Mb [                    ] 1% 572.9s\u001B[0K\u001B[1G123.2 Mb [                    ] 1% 574.8s\u001B[0K\u001B[1G123.2 Mb [                    ] 1% 577.6s\u001B[0K\u001B[1G123.2 Mb [                    ] 1% 580.6s\u001B[0K\u001B[1G123.2 Mb [                    ] 1% 582.9s\u001B[0K\u001B[1G123.2 Mb [                    ] 1% 587.5s\u001B[0K\u001B[1G123.2 Mb [                    ] 1% 584.0s\u001B[0K\u001B[1G123.2 Mb [                    ] 1% 588.0s\u001B[0K\u001B[1G123.2 Mb [                    ] 1% 587.3s\u001B[0K\u001B[1G123.2 Mb [                    ] 1% 588.2s\u001B[0K\u001B[1G123.2 Mb [                    ] 1% 587.8s\u001B[0K\u001B[1G123.2 Mb [                    ] 1% 589.1s\u001B[0K\u001B[1G123.2 Mb [                    ] 1% 589.6s\u001B[0K\u001B[1G123.2 Mb [                    ] 1% 590.5s\u001B[0K\u001B[1G123.2 Mb [                    ] 1% 592.1s\u001B[0K\u001B[1G123.2 Mb [                    ] 1% 590.8s\u001B[0K\u001B[1G123.2 Mb [                    ] 1% 590.9s\u001B[0K\u001B[1G123.2 Mb [                    ] 1% 590.8s\u001B[0K\u001B[1G123.2 Mb [                    ] 1% 589.1s\u001B[0K\u001B[1G123.2 Mb [                    ] 1% 588.9s\u001B[0K\u001B[1G123.2 Mb [                    ] 1% 586.5s\u001B[0K\u001B[1G123.2 Mb [                    ] 1% 587.6s\u001B[0K\u001B[1G123.2 Mb [                    ] 1% 586.1s\u001B[0K\u001B[1G123.2 Mb [                    ] 1% 586.0s\u001B[0K\u001B[1G123.2 Mb [                    ] 1% 584.5s\u001B[0K\u001B[1G123.2 Mb [                    ] 1% 585.5s\u001B[0K\u001B[1G123.2 Mb [                    ] 1% 583.2s\u001B[0K\u001B[1G123.2 Mb [                    ] 1% 581.8s\u001B[0K\u001B[1G123.2 Mb [                    ] 1% 584.0s\u001B[0K\u001B[1G123.2 Mb [                    ] 1% 582.0s\u001B[0K\u001B[1G123.2 Mb [                    ] 1% 583.9s\u001B[0K\u001B[1G123.2 Mb [                    ] 1% 583.8s\u001B[0K\u001B[1G123.2 Mb [                    ] 1% 583.2s\u001B[0K\u001B[1G123.2 Mb [                    ] 1% 582.4s\u001B[0K\u001B[1G123.2 Mb [                    ] 1% 589.0s\u001B[0K\u001B[1G123.2 Mb [                    ] 1% 585.6s\u001B[0K\u001B[1G123.2 Mb [                    ] 1% 580.3s\u001B[0K\u001B[1G123.2 Mb [                    ] 1% 581.1s\u001B[0K\u001B[1G123.2 Mb [                    ] 1% 581.4s\u001B[0K\u001B[1G123.2 Mb [                    ] 1% 582.5s\u001B[0K\u001B[1G123.2 Mb [                    ] 1% 581.6s\u001B[0K\u001B[1G123.2 Mb [                    ] 1% 581.8s\u001B[0K\u001B[1G123.2 Mb [                    ] 1% 580.9s\u001B[0K\u001B[1G123.2 Mb [                    ] 1% 580.3s\u001B[0K\u001B[1G123.2 Mb [                    ] 2% 579.0s\u001B[0K\u001B[1G123.2 Mb [                    ] 2% 577.6s\u001B[0K\u001B[1G123.2 Mb [                    ] 2% 576.8s\u001B[0K\u001B[1G123.2 Mb [                    ] 2% 575.8s\u001B[0K\u001B[1G123.2 Mb [                    ] 2% 574.7s\u001B[0K\u001B[1G123.2 Mb [                    ] 2% 573.8s\u001B[0K\u001B[1G123.2 Mb [                    ] 2% 573.0s\u001B[0K\u001B[1G123.2 Mb [                    ] 2% 571.6s\u001B[0K\u001B[1G123.2 Mb [                    ] 2% 571.5s\u001B[0K\u001B[1G123.2 Mb [                    ] 2% 570.3s\u001B[0K\u001B[1G123.2 Mb [                    ] 2% 569.0s\u001B[0K\u001B[1G123.2 Mb [                    ] 2% 568.0s\u001B[0K\u001B[1G123.2 Mb [                    ] 2% 567.7s\u001B[0K\u001B[1G123.2 Mb [                    ] 2% 566.0s\u001B[0K\u001B[1G123.2 Mb [                    ] 2% 565.6s\u001B[0K\u001B[1G123.2 Mb [                    ] 2% 570.5s\u001B[0K\u001B[1G123.2 Mb [                    ] 2% 564.0s\u001B[0K\u001B[1G123.2 Mb [                    ] 2% 565.0s\u001B[0K\u001B[1G123.2 Mb [                    ] 2% 566.3s\u001B[0K\u001B[1G123.2 Mb [                    ] 2% 565.3s\u001B[0K\u001B[1G123.2 Mb [                    ] 2% 564.8s\u001B[0K\u001B[1G123.2 Mb [                    ] 2% 564.7s\u001B[0K\u001B[1G123.2 Mb [                    ] 2% 563.7s\u001B[0K\u001B[1G123.2 Mb [                    ] 2% 563.2s\u001B[0K\u001B[1G123.2 Mb [                    ] 2% 563.9s\u001B[0K\u001B[1G123.2 Mb [                    ] 2% 563.3s\u001B[0K\u001B[1G123.2 Mb [                    ] 2% 569.5s\u001B[0K\u001B[1G123.2 Mb [                    ] 2% 563.8s\u001B[0K\u001B[1G123.2 Mb [                    ] 2% 563.1s\u001B[0K\u001B[1G123.2 Mb [                    ] 2% 563.2s\u001B[0K\u001B[1G123.2 Mb [                    ] 2% 563.8s\u001B[0K\u001B[1G123.2 Mb [                    ] 2% 563.4s\u001B[0K\u001B[1G123.2 Mb [                    ] 2% 563.3s\u001B[0K\u001B[1G123.2 Mb [                    ] 2% 563.8s\u001B[0K\u001B[1G123.2 Mb [                    ] 2% 562.9s\u001B[0K\u001B[1G123.2 Mb [                    ] 2% 563.0s\u001B[0K\u001B[1G123.2 Mb [=                   ] 2% 563.1s\u001B[0K\u001B[1G123.2 Mb [=                   ] 2% 562.9s\u001B[0K\u001B[1G123.2 Mb [=                   ] 2% 563.1s\u001B[0K\u001B[1G123.2 Mb [=                   ] 2% 562.0s\u001B[0K\u001B[1G123.2 Mb [=                   ] 2% 562.3s\u001B[0K\u001B[1G123.2 Mb [=                   ] 2% 563.3s\u001B[0K\u001B[1G123.2 Mb [=                   ] 2% 562.5s\u001B[0K\u001B[1G123.2 Mb [=                   ] 2% 568.2s\u001B[0K\u001B[1G123.2 Mb [=                   ] 2% 563.6s\u001B[0K\u001B[1G123.2 Mb [=                   ] 2% 564.0s\u001B[0K\u001B[1G123.2 Mb [=                   ] 2% 563.7s\u001B[0K\u001B[1G123.2 Mb [=                   ] 2% 564.2s\u001B[0K\u001B[1G123.2 Mb [=                   ] 2% 564.4s\u001B[0K\u001B[1G123.2 Mb [=                   ] 2% 563.9s\u001B[0K\u001B[1G123.2 Mb [=                   ] 2% 563.4s\u001B[0K\u001B[1G123.2 Mb [=                   ] 2% 564.0s\u001B[0K\u001B[1G123.2 Mb [=                   ] 2% 566.5s\u001B[0K\u001B[1G123.2 Mb [=                   ] 2% 564.2s\u001B[0K\u001B[1G123.2 Mb [=                   ] 2% 566.2s\u001B[0K\u001B[1G123.2 Mb [=                   ] 2% 566.0s\u001B[0K\u001B[1G123.2 Mb [=                   ] 2% 566.4s\u001B[0K\u001B[1G123.2 Mb [=                   ] 2% 566.3s\u001B[0K\u001B[1G123.2 Mb [=                   ] 2% 566.7s\u001B[0K\u001B[1G123.2 Mb [=                   ] 2% 566.6s\u001B[0K\u001B[1G123.2 Mb [=                   ] 2% 567.3s\u001B[0K\u001B[1G123.2 Mb [=                   ] 2% 571.4s\u001B[0K\u001B[1G123.2 Mb [=                   ] 2% 569.9s\u001B[0K\u001B[1G123.2 Mb [=                   ] 2% 571.0s\u001B[0K\u001B[1G123.2 Mb [=                   ] 2% 572.2s\u001B[0K\u001B[1G123.2 Mb [=                   ] 2% 572.9s\u001B[0K\u001B[1G123.2 Mb [=                   ] 2% 573.3s\u001B[0K\u001B[1G123.2 Mb [=                   ] 2% 573.9s\u001B[0K\u001B[1G123.2 Mb [=                   ] 2% 573.7s\u001B[0K\u001B[1G123.2 Mb [=                   ] 2% 574.0s\u001B[0K\u001B[1G123.2 Mb [=                   ] 3% 574.2s\u001B[0K\u001B[1G123.2 Mb [=                   ] 3% 575.0s\u001B[0K\u001B[1G123.2 Mb [=                   ] 3% 575.7s\u001B[0K\u001B[1G123.2 Mb [=                   ] 3% 579.9s\u001B[0K\u001B[1G123.2 Mb [=                   ] 3% 579.0s\u001B[0K\u001B[1G123.2 Mb [=                   ] 3% 578.3s\u001B[0K\u001B[1G123.2 Mb [=                   ] 3% 579.0s\u001B[0K^C\r\n",
      "Traceback (most recent call last):\r\n",
      "  File \"/Users/pangmengting/venv/bin/playwright\", line 8, in <module>\r\n",
      "    sys.exit(main())\r\n",
      "  File \"/Users/pangmengting/venv/lib/python3.10/site-packages/playwright/__main__.py\", line 23, in main\r\n",
      "    completed_process = subprocess.run(\r\n",
      "  File \"/Library/Frameworks/Python.framework/Versions/3.10/lib/python3.10/subprocess.py\", line 505, in run\r\n",
      "    stdout, stderr = process.communicate(input, timeout=timeout)\r\n",
      "  File \"/Library/Frameworks/Python.framework/Versions/3.10/lib/python3.10/subprocess.py\", line 1146, in communicate\r\n",
      "    self.wait()\r\n",
      "  File \"/Library/Frameworks/Python.framework/Versions/3.10/lib/python3.10/subprocess.py\", line 1209, in wait\r\n",
      "    return self._wait(timeout=timeout)\r\n",
      "  File \"/Library/Frameworks/Python.framework/Versions/3.10/lib/python3.10/subprocess.py\", line 1943, in _wait\r\n",
      "    (pid, sts) = self._try_wait(0)\r\n",
      "  File \"/Library/Frameworks/Python.framework/Versions/3.10/lib/python3.10/subprocess.py\", line 1901, in _try_wait\r\n",
      "    (pid, sts) = os.waitpid(self.pid, wait_flags)\r\n",
      "KeyboardInterrupt\r\n"
     ]
    }
   ],
   "source": [
    "!pip install requests playwright beautifulsoup4\n",
    "!playwright install"
   ]
  },
  {
   "cell_type": "code",
   "outputs": [],
   "source": [
    "from playwright.sync_api import sync_playwright\n",
    "\n",
    "\n",
    "def get_redbook_data(url):\n",
    "    with sync_playwright() as p:\n",
    "        browser = p.chromium.launch(headless=True)\n",
    "        page = browser.new_page()\n",
    "        page.goto(url)\n",
    "\n",
    "        # 等待数据加载\n",
    "        page.wait_for_selector('div.note-content')\n",
    "\n",
    "        # 获取接口数据（需自行抓取实际接口）\n",
    "        api_data = page.evaluate('''() => {\n",
    "            return window.__initialData;\n",
    "        }''')\n",
    "\n",
    "        browser.close()\n",
    "        return api_data"
   ],
   "metadata": {
    "collapsed": false,
    "ExecuteTime": {
     "end_time": "2025-02-22T08:45:53.400996Z",
     "start_time": "2025-02-22T08:45:53.326159Z"
    }
   },
   "id": "bf312ee1a7209d14",
   "execution_count": 2
  },
  {
   "cell_type": "code",
   "outputs": [],
   "source": [
    "def parse_data(json_data):\n",
    "    result = {\n",
    "        \"text\": \"\",\n",
    "        \"images\": []\n",
    "    }\n",
    "\n",
    "    # 提取正文\n",
    "    if 'note' in json_data and 'content' in json_data['note']:\n",
    "        result['text'] = json_data['note']['content']\n",
    "\n",
    "    # 提取图片\n",
    "    if 'image_list' in json_data.get('note', {}):\n",
    "        for img in json_data['note']['image_list']:\n",
    "            # 替换获取高清图（需根据实际数据结构调整）\n",
    "            img_url = img['url'].replace('w/300/format', 'w/1080/format')\n",
    "            result['images'].append(img_url)\n",
    "\n",
    "    return result"
   ],
   "metadata": {
    "collapsed": false,
    "ExecuteTime": {
     "end_time": "2025-02-22T08:45:53.976489Z",
     "start_time": "2025-02-22T08:45:53.973200Z"
    }
   },
   "id": "cba5518515e846a3",
   "execution_count": 3
  },
  {
   "cell_type": "code",
   "outputs": [
    {
     "ename": "Error",
     "evalue": "It looks like you are using Playwright Sync API inside the asyncio loop.\nPlease use the Async API instead.",
     "output_type": "error",
     "traceback": [
      "\u001B[0;31m---------------------------------------------------------------------------\u001B[0m",
      "\u001B[0;31mError\u001B[0m                                     Traceback (most recent call last)",
      "Cell \u001B[0;32mIn[4], line 2\u001B[0m\n\u001B[1;32m      1\u001B[0m url \u001B[38;5;241m=\u001B[39m \u001B[38;5;124m\"\u001B[39m\u001B[38;5;124mhttps://www.xiaohongshu.com/discovery/item/67b8a3aa000000000603b5b1?source=webshare&xhsshare=pc_web&xsec_token=ABl_iyad7-uPtWoRVhH2lcJ95dF61lI7QBOu1RNiziQI4=&xsec_source=pc_share\u001B[39m\u001B[38;5;124m\"\u001B[39m\n\u001B[0;32m----> 2\u001B[0m raw_data \u001B[38;5;241m=\u001B[39m \u001B[43mget_redbook_data\u001B[49m\u001B[43m(\u001B[49m\u001B[43murl\u001B[49m\u001B[43m)\u001B[49m\n\u001B[1;32m      3\u001B[0m parsed_data \u001B[38;5;241m=\u001B[39m parse_data(raw_data)\n\u001B[1;32m      5\u001B[0m \u001B[38;5;28mprint\u001B[39m(\u001B[38;5;124m\"\u001B[39m\u001B[38;5;124m正文内容：\u001B[39m\u001B[38;5;124m\"\u001B[39m, parsed_data[\u001B[38;5;124m'\u001B[39m\u001B[38;5;124mtext\u001B[39m\u001B[38;5;124m'\u001B[39m])\n",
      "Cell \u001B[0;32mIn[2], line 5\u001B[0m, in \u001B[0;36mget_redbook_data\u001B[0;34m(url)\u001B[0m\n\u001B[1;32m      4\u001B[0m \u001B[38;5;28;01mdef\u001B[39;00m \u001B[38;5;21mget_redbook_data\u001B[39m(url):\n\u001B[0;32m----> 5\u001B[0m     \u001B[38;5;28;01mwith\u001B[39;00m sync_playwright() \u001B[38;5;28;01mas\u001B[39;00m p:\n\u001B[1;32m      6\u001B[0m         browser \u001B[38;5;241m=\u001B[39m p\u001B[38;5;241m.\u001B[39mchromium\u001B[38;5;241m.\u001B[39mlaunch(headless\u001B[38;5;241m=\u001B[39m\u001B[38;5;28;01mTrue\u001B[39;00m)\n\u001B[1;32m      7\u001B[0m         page \u001B[38;5;241m=\u001B[39m browser\u001B[38;5;241m.\u001B[39mnew_page()\n",
      "File \u001B[0;32m~/venv/lib/python3.10/site-packages/playwright/sync_api/_context_manager.py:47\u001B[0m, in \u001B[0;36mPlaywrightContextManager.__enter__\u001B[0;34m(self)\u001B[0m\n\u001B[1;32m     45\u001B[0m             \u001B[38;5;28mself\u001B[39m\u001B[38;5;241m.\u001B[39m_own_loop \u001B[38;5;241m=\u001B[39m \u001B[38;5;28;01mTrue\u001B[39;00m\n\u001B[1;32m     46\u001B[0m         \u001B[38;5;28;01mif\u001B[39;00m \u001B[38;5;28mself\u001B[39m\u001B[38;5;241m.\u001B[39m_loop\u001B[38;5;241m.\u001B[39mis_running():\n\u001B[0;32m---> 47\u001B[0m             \u001B[38;5;28;01mraise\u001B[39;00m Error(\n\u001B[1;32m     48\u001B[0m \u001B[38;5;250m                \u001B[39m\u001B[38;5;124;03m\"\"\"It looks like you are using Playwright Sync API inside the asyncio loop.\u001B[39;00m\n\u001B[1;32m     49\u001B[0m \u001B[38;5;124;03mPlease use the Async API instead.\"\"\"\u001B[39;00m\n\u001B[1;32m     50\u001B[0m             )\n\u001B[1;32m     52\u001B[0m         \u001B[38;5;66;03m# Create a new fiber for the protocol dispatcher. It will be pumping events\u001B[39;00m\n\u001B[1;32m     53\u001B[0m         \u001B[38;5;66;03m# until the end of times. We will pass control to that fiber every time we\u001B[39;00m\n\u001B[1;32m     54\u001B[0m         \u001B[38;5;66;03m# block while waiting for a response.\u001B[39;00m\n\u001B[1;32m     55\u001B[0m         \u001B[38;5;28;01mdef\u001B[39;00m \u001B[38;5;21mgreenlet_main\u001B[39m() \u001B[38;5;241m-\u001B[39m\u001B[38;5;241m>\u001B[39m \u001B[38;5;28;01mNone\u001B[39;00m:\n",
      "\u001B[0;31mError\u001B[0m: It looks like you are using Playwright Sync API inside the asyncio loop.\nPlease use the Async API instead."
     ]
    }
   ],
   "source": [
    "url = \"https://www.xiaohongshu.com/discovery/item/67b8a3aa000000000603b5b1?source=webshare&xhsshare=pc_web&xsec_token=ABl_iyad7-uPtWoRVhH2lcJ95dF61lI7QBOu1RNiziQI4=&xsec_source=pc_share\"\n",
    "raw_data = get_redbook_data(url)\n",
    "parsed_data = parse_data(raw_data)\n",
    "\n",
    "print(\"正文内容：\", parsed_data['text'])\n",
    "print(\"图片列表：\", parsed_data['images'])"
   ],
   "metadata": {
    "collapsed": false,
    "ExecuteTime": {
     "end_time": "2025-02-22T08:45:55.385327Z",
     "start_time": "2025-02-22T08:45:55.219567Z"
    }
   },
   "id": "9c22f1b8b189c10b",
   "execution_count": 4
  },
  {
   "cell_type": "code",
   "outputs": [],
   "source": [],
   "metadata": {
    "collapsed": false
   },
   "id": "9037e52a26408d84"
  }
 ],
 "metadata": {
  "kernelspec": {
   "display_name": "Python 3",
   "language": "python",
   "name": "python3"
  },
  "language_info": {
   "codemirror_mode": {
    "name": "ipython",
    "version": 2
   },
   "file_extension": ".py",
   "mimetype": "text/x-python",
   "name": "python",
   "nbconvert_exporter": "python",
   "pygments_lexer": "ipython2",
   "version": "2.7.6"
  }
 },
 "nbformat": 4,
 "nbformat_minor": 5
}
