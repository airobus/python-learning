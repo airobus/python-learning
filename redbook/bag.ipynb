{
 "cells": [
  {
   "cell_type": "code",
   "execution_count": 1,
   "id": "initial_id",
   "metadata": {
    "collapsed": true,
    "ExecuteTime": {
     "end_time": "2025-02-28T10:03:31.571393Z",
     "start_time": "2025-02-28T10:03:17.983972Z"
    }
   },
   "outputs": [
    {
     "name": "stdout",
     "output_type": "stream",
     "text": [
      "Looking in indexes: https://pypi.tuna.tsinghua.edu.cn/simple\r\n",
      "Collecting requests~=2.26.0\r\n",
      "  Downloading https://pypi.tuna.tsinghua.edu.cn/packages/92/96/144f70b972a9c0eabbd4391ef93ccd49d0f2747f4f6a2a2738e99e5adc65/requests-2.26.0-py2.py3-none-any.whl (62 kB)\r\n",
      "\u001B[2K     \u001B[90m━━━━━━━━━━━━━━━━━━━━━━━━━━━━━━━━━━━━━━━\u001B[0m \u001B[32m62.3/62.3 kB\u001B[0m \u001B[31m212.5 kB/s\u001B[0m eta \u001B[36m0:00:00\u001B[0m:--:--\u001B[0m\r\n",
      "\u001B[?25hCollecting urllib3<1.27,>=1.21.1 (from requests~=2.26.0)\r\n",
      "  Downloading https://pypi.tuna.tsinghua.edu.cn/packages/33/cf/8435d5a7159e2a9c83a95896ed596f68cf798005fe107cc655b5c5c14704/urllib3-1.26.20-py2.py3-none-any.whl (144 kB)\r\n",
      "\u001B[2K     \u001B[90m━━━━━━━━━━━━━━━━━━━━━━━━━━━━━━━━━━━━━\u001B[0m \u001B[32m144.2/144.2 kB\u001B[0m \u001B[31m119.6 kB/s\u001B[0m eta \u001B[36m0:00:00\u001B[0ma \u001B[36m0:00:01\u001B[0m\r\n",
      "\u001B[?25hRequirement already satisfied: certifi>=2017.4.17 in /Users/pangmengting/venv/lib/python3.10/site-packages (from requests~=2.26.0) (2024.7.4)\r\n",
      "Collecting charset-normalizer~=2.0.0 (from requests~=2.26.0)\r\n",
      "  Downloading https://pypi.tuna.tsinghua.edu.cn/packages/06/b3/24afc8868eba069a7f03650ac750a778862dc34941a4bebeb58706715726/charset_normalizer-2.0.12-py3-none-any.whl (39 kB)\r\n",
      "Requirement already satisfied: idna<4,>=2.5 in /Users/pangmengting/venv/lib/python3.10/site-packages (from requests~=2.26.0) (3.7)\r\n",
      "Installing collected packages: urllib3, charset-normalizer, requests\r\n",
      "  Attempting uninstall: urllib3\r\n",
      "    Found existing installation: urllib3 2.2.2\r\n",
      "    Uninstalling urllib3-2.2.2:\r\n",
      "      Successfully uninstalled urllib3-2.2.2\r\n",
      "  Attempting uninstall: charset-normalizer\r\n",
      "    Found existing installation: charset-normalizer 3.3.2\r\n",
      "    Uninstalling charset-normalizer-3.3.2:\r\n",
      "      Successfully uninstalled charset-normalizer-3.3.2\r\n",
      "  Attempting uninstall: requests\r\n",
      "    Found existing installation: requests 2.32.3\r\n",
      "    Uninstalling requests-2.32.3:\r\n",
      "      Successfully uninstalled requests-2.32.3\r\n",
      "\u001B[31mERROR: pip's dependency resolver does not currently take into account all the packages that are installed. This behaviour is the source of the following dependency conflicts.\r\n",
      "chromadb 0.4.24 requires requests>=2.28, but you have requests 2.26.0 which is incompatible.\r\n",
      "google-api-core 2.11.1 requires protobuf!=3.20.0,!=3.20.1,!=4.21.0,!=4.21.1,!=4.21.2,!=4.21.3,!=4.21.4,!=4.21.5,<5.0.0.dev0,>=3.19.5, but you have protobuf 5.27.3 which is incompatible.\r\n",
      "google-cloud-aiplatform 1.28.1 requires protobuf!=3.20.0,!=3.20.1,!=4.21.0,!=4.21.1,!=4.21.2,!=4.21.3,!=4.21.4,!=4.21.5,<5.0.0dev,>=3.19.5, but you have protobuf 5.27.3 which is incompatible.\r\n",
      "google-cloud-bigquery 3.11.4 requires protobuf!=3.20.0,!=3.20.1,!=4.21.0,!=4.21.1,!=4.21.2,!=4.21.3,!=4.21.4,!=4.21.5,<5.0.0dev,>=3.19.5, but you have protobuf 5.27.3 which is incompatible.\r\n",
      "google-cloud-resource-manager 1.10.2 requires protobuf!=3.20.0,!=3.20.1,!=4.21.0,!=4.21.1,!=4.21.2,!=4.21.3,!=4.21.4,!=4.21.5,<5.0.0dev,>=3.19.5, but you have protobuf 5.27.3 which is incompatible.\r\n",
      "jupyterlab-server 2.25.4 requires requests>=2.31, but you have requests 2.26.0 which is incompatible.\r\n",
      "langchain 0.2.6 requires tenacity!=8.4.0,<9.0.0,>=8.1.0, but you have tenacity 9.0.0 which is incompatible.\r\n",
      "langchain-community 0.2.6 requires tenacity!=8.4.0,<9.0.0,>=8.1.0, but you have tenacity 9.0.0 which is incompatible.\r\n",
      "langchainplus-sdk 0.0.20 requires pydantic<2,>=1, but you have pydantic 2.8.2 which is incompatible.\r\n",
      "langchainplus-sdk 0.0.20 requires tenacity<9.0.0,>=8.1.0, but you have tenacity 9.0.0 which is incompatible.\r\n",
      "llama-index-core 0.10.48 requires requests>=2.31.0, but you have requests 2.26.0 which is incompatible.\r\n",
      "llama-index-core 0.10.48 requires tenacity!=8.4.0,<9.0.0,>=8.2.0, but you have tenacity 9.0.0 which is incompatible.\r\n",
      "llama-index-legacy 0.9.48 requires requests>=2.31.0, but you have requests 2.26.0 which is incompatible.\r\n",
      "llama-index-legacy 0.9.48 requires tenacity<9.0.0,>=8.2.0, but you have tenacity 9.0.0 which is incompatible.\r\n",
      "pandasai 2.2.7 requires requests<3.0.0,>=2.31.0, but you have requests 2.26.0 which is incompatible.\r\n",
      "qianfan 0.3.16 requires tenacity<9.0.0,>=8.2.3, but you have tenacity 9.0.0 which is incompatible.\r\n",
      "streamlit 1.35.0 requires protobuf<5,>=3.20, but you have protobuf 5.27.3 which is incompatible.\r\n",
      "streamlit 1.35.0 requires requests<3,>=2.27, but you have requests 2.26.0 which is incompatible.\r\n",
      "streamlit 1.35.0 requires tenacity<9,>=8.1.0, but you have tenacity 9.0.0 which is incompatible.\r\n",
      "types-requests 2.31.0.20240311 requires urllib3>=2, but you have urllib3 1.26.20 which is incompatible.\r\n",
      "unstructured-client 0.23.3 requires charset-normalizer>=3.2.0, but you have charset-normalizer 2.0.12 which is incompatible.\r\n",
      "unstructured-client 0.23.3 requires dataclasses-json>=0.6.4, but you have dataclasses-json 0.5.14 which is incompatible.\r\n",
      "unstructured-client 0.23.3 requires requests>=2.31.0, but you have requests 2.26.0 which is incompatible.\r\n",
      "wandb 0.15.5 requires protobuf!=4.21.0,<5,>=3.19.0; sys_platform != \"linux\", but you have protobuf 5.27.3 which is incompatible.\r\n",
      "weaviate-client 4.7.1 requires requests<3.0.0,>=2.30.0, but you have requests 2.26.0 which is incompatible.\r\n",
      "yfinance 0.2.40 requires requests>=2.31, but you have requests 2.26.0 which is incompatible.\r\n",
      "yt-dlp 2024.5.27 requires requests<3,>=2.31.0, but you have requests 2.26.0 which is incompatible.\r\n",
      "yt-dlp 2024.5.27 requires websockets>=12.0, but you have websockets 10.4 which is incompatible.\u001B[0m\u001B[31m\r\n",
      "\u001B[0mSuccessfully installed charset-normalizer-2.0.12 requests-2.26.0 urllib3-1.26.20\r\n",
      "\r\n",
      "\u001B[1m[\u001B[0m\u001B[34;49mnotice\u001B[0m\u001B[1;39;49m]\u001B[0m\u001B[39;49m A new release of pip is available: \u001B[0m\u001B[31;49m24.0\u001B[0m\u001B[39;49m -> \u001B[0m\u001B[32;49m25.0.1\u001B[0m\r\n",
      "\u001B[1m[\u001B[0m\u001B[34;49mnotice\u001B[0m\u001B[1;39;49m]\u001B[0m\u001B[39;49m To update, run: \u001B[0m\u001B[32;49mpip install --upgrade pip\u001B[0m\r\n",
      "Looking in indexes: https://pypi.tuna.tsinghua.edu.cn/simple\r\n",
      "Collecting psutil~=5.9.7\r\n",
      "  Downloading https://pypi.tuna.tsinghua.edu.cn/packages/05/33/2d74d588408caedd065c2497bdb5ef83ce6082db01289a1e1147f6639802/psutil-5.9.8-cp38-abi3-macosx_11_0_arm64.whl (249 kB)\r\n",
      "\u001B[2K     \u001B[90m━━━━━━━━━━━━━━━━━━━━━━━━━━━━━━━━━━━━━━━\u001B[0m \u001B[32m249.9/249.9 kB\u001B[0m \u001B[31m2.6 MB/s\u001B[0m eta \u001B[36m0:00:00\u001B[0ma \u001B[36m0:00:01\u001B[0m\r\n",
      "\u001B[?25hInstalling collected packages: psutil\r\n",
      "  Attempting uninstall: psutil\r\n",
      "    Found existing installation: psutil 5.9.5\r\n",
      "    Uninstalling psutil-5.9.5:\r\n",
      "      Successfully uninstalled psutil-5.9.5\r\n",
      "\u001B[31mERROR: pip's dependency resolver does not currently take into account all the packages that are installed. This behaviour is the source of the following dependency conflicts.\r\n",
      "wandb 0.15.5 requires protobuf!=4.21.0,<5,>=3.19.0; sys_platform != \"linux\", but you have protobuf 5.27.3 which is incompatible.\u001B[0m\u001B[31m\r\n",
      "\u001B[0mSuccessfully installed psutil-5.9.8\r\n",
      "\r\n",
      "\u001B[1m[\u001B[0m\u001B[34;49mnotice\u001B[0m\u001B[1;39;49m]\u001B[0m\u001B[39;49m A new release of pip is available: \u001B[0m\u001B[31;49m24.0\u001B[0m\u001B[39;49m -> \u001B[0m\u001B[32;49m25.0.1\u001B[0m\r\n",
      "\u001B[1m[\u001B[0m\u001B[34;49mnotice\u001B[0m\u001B[1;39;49m]\u001B[0m\u001B[39;49m To update, run: \u001B[0m\u001B[32;49mpip install --upgrade pip\u001B[0m\r\n",
      "Looking in indexes: https://pypi.tuna.tsinghua.edu.cn/simple\r\n",
      "Requirement already satisfied: dataclasses~=0.6 in /Users/pangmengting/venv/lib/python3.10/site-packages (0.6)\r\n",
      "\r\n",
      "\u001B[1m[\u001B[0m\u001B[34;49mnotice\u001B[0m\u001B[1;39;49m]\u001B[0m\u001B[39;49m A new release of pip is available: \u001B[0m\u001B[31;49m24.0\u001B[0m\u001B[39;49m -> \u001B[0m\u001B[32;49m25.0.1\u001B[0m\r\n",
      "\u001B[1m[\u001B[0m\u001B[34;49mnotice\u001B[0m\u001B[1;39;49m]\u001B[0m\u001B[39;49m To update, run: \u001B[0m\u001B[32;49mpip install --upgrade pip\u001B[0m\r\n"
     ]
    }
   ],
   "source": [
    "!pip install requests~=2.26.0\n",
    "!pip install psutil~=5.9.7\n",
    "!pip install dataclasses~=0.6"
   ]
  },
  {
   "cell_type": "code",
   "outputs": [
    {
     "name": "stdout",
     "output_type": "stream",
     "text": [
      "/Users/pangmengting/venv/lib/python3.10/site-packages/requests/__init__.py:102: RequestsDependencyWarning: urllib3 (1.26.20) or chardet (5.1.0)/charset_normalizer (2.0.12) doesn't match a supported version!\r\n",
      "  warnings.warn(\"urllib3 ({}) or chardet ({})/charset_normalizer ({}) doesn't match a supported \"\r\n",
      "2025-03-01 11:20:59,624 - __main__ - INFO - 提示：本脚本请不要再 Cursor 中执行\r\n",
      "2025-03-01 11:20:59,625 - __main__ - INFO - 当前 Cursor 版本: 0.45.16\r\n",
      "请输入授权码（获取地址：https://cursor.ccopilot.org）: ^C\r\n",
      "Traceback (most recent call last):\r\n",
      "  File \"/Users/pangmengting/Documents/workspace/python-learning/redbook/update_cursor_token_main.py\", line 538, in <module>\r\n",
      "    main()\r\n",
      "  File \"/Users/pangmengting/Documents/workspace/python-learning/redbook/update_cursor_token_main.py\", line 506, in main\r\n",
      "    access_code = input(\"请输入授权码（获取地址：https://cursor.ccopilot.org）: \") or Config.ACCESS_CODE\r\n",
      "KeyboardInterrupt\r\n"
     ]
    }
   ],
   "source": [
    "!python update_cursor_token_main.py"
   ],
   "metadata": {
    "collapsed": false,
    "ExecuteTime": {
     "end_time": "2025-03-01T03:21:07.222053Z",
     "start_time": "2025-03-01T03:20:59.515758Z"
    }
   },
   "id": "9a488ce9007140cd",
   "execution_count": 1
  },
  {
   "cell_type": "code",
   "outputs": [],
   "source": [],
   "metadata": {
    "collapsed": false
   },
   "id": "f09264ecc5798f7"
  }
 ],
 "metadata": {
  "kernelspec": {
   "display_name": "Python 3",
   "language": "python",
   "name": "python3"
  },
  "language_info": {
   "codemirror_mode": {
    "name": "ipython",
    "version": 2
   },
   "file_extension": ".py",
   "mimetype": "text/x-python",
   "name": "python",
   "nbconvert_exporter": "python",
   "pygments_lexer": "ipython2",
   "version": "2.7.6"
  }
 },
 "nbformat": 4,
 "nbformat_minor": 5
}
